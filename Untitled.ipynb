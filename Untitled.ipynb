{
 "cells": [
  {
   "cell_type": "code",
   "execution_count": 60,
   "metadata": {},
   "outputs": [
    {
     "name": "stdout",
     "output_type": "stream",
     "text": [
      "[1, 100, 10000, 1000000, 100000000]\n"
     ]
    }
   ],
   "source": [
    "##1.zad\n",
    "q = [r**2 for r in [10**i for i in range(5)]]\n",
    "print(q)\n",
    "unutarnja=[]\n",
    "for i in range(5):\n",
    "    unutarnja+=[10**i]\n",
    "vanjska=[]\n",
    "for m in unutarnja:\n",
    "    vanjska+=[m**2]    "
   ]
  },
  {
   "cell_type": "markdown",
   "metadata": {},
   "source": [
    "Napišite funkciju koja za ulaz prima broj N. Funkcija treba kreirati slučajan Numpy niz duljine N s uniformnom distribucijom, zatim treba naći broj M brojeva u nizu koji leže između 0.5 i 0.6 te treba vratiti broj M/N. Učinite funkciju interaktivnom."
   ]
  },
  {
   "cell_type": "code",
   "execution_count": 61,
   "metadata": {},
   "outputs": [
    {
     "data": {
      "application/vnd.jupyter.widget-view+json": {
       "model_id": "f71b31a8237741648a42ef6fc188eea3",
       "version_major": 2,
       "version_minor": 0
      },
      "text/html": [
       "<p>Failed to display Jupyter Widget of type <code>interactive</code>.</p>\n",
       "<p>\n",
       "  If you're reading this message in the Jupyter Notebook or JupyterLab Notebook, it may mean\n",
       "  that the widgets JavaScript is still loading. If this message persists, it\n",
       "  likely means that the widgets JavaScript library is either not installed or\n",
       "  not enabled. See the <a href=\"https://ipywidgets.readthedocs.io/en/stable/user_install.html\">Jupyter\n",
       "  Widgets Documentation</a> for setup instructions.\n",
       "</p>\n",
       "<p>\n",
       "  If you're reading this message in another frontend (for example, a static\n",
       "  rendering on GitHub or <a href=\"https://nbviewer.jupyter.org/\">NBViewer</a>),\n",
       "  it may mean that your frontend doesn't currently support widgets.\n",
       "</p>\n"
      ],
      "text/plain": [
       "interactive(children=(IntSlider(value=150, description='N', max=300, min=1), Output()), _dom_classes=('widget-interact',))"
      ]
     },
     "metadata": {},
     "output_type": "display_data"
    }
   ],
   "source": [
    "##2.zad\n",
    "import numpy as np\n",
    "import ipywidgets as widgets\n",
    "def funkcija(N):\n",
    "    l=np.random.uniform(size=N)\n",
    "    M=sum((l>=0.5) & (l<=0.6))\n",
    "    return M/N\n",
    "##slajder=widgets.IntSlider(value=1000, min=1, max=3000)\n",
    "widgets.interact(funkcija, N=(1,300));\n",
    "\n"
   ]
  },
  {
   "cell_type": "code",
   "execution_count": 62,
   "metadata": {},
   "outputs": [
    {
     "data": {
      "text/plain": [
       "['Borna', 'Ivka', 'Mare', 'Silvana']"
      ]
     },
     "execution_count": 62,
     "metadata": {},
     "output_type": "execute_result"
    }
   ],
   "source": [
    "l=np.random.uniform(size=100)\n",
    "sum((l>=0.5) & (l<=0.6))\n",
    "'Borna Ivka Mare Silvana'.split()"
   ]
  },
  {
   "cell_type": "code",
   "execution_count": 63,
   "metadata": {},
   "outputs": [
    {
     "data": {
      "text/plain": [
       "array([30.26301613, 26.15783521, 28.72179076, 32.22125189, 32.84517765,\n",
       "       32.43763791, 34.64511517, 34.34540272])"
      ]
     },
     "execution_count": 63,
     "metadata": {},
     "output_type": "execute_result"
    }
   ],
   "source": [
    "niz = np.random.normal(100, 15, 1_000_000)\n",
    "niz[(niz > 170) | (niz < 35)]"
   ]
  },
  {
   "cell_type": "code",
   "execution_count": 64,
   "metadata": {},
   "outputs": [
    {
     "data": {
      "text/plain": [
       "<matplotlib.legend.Legend at 0xbf2cc30>"
      ]
     },
     "execution_count": 64,
     "metadata": {},
     "output_type": "execute_result"
    },
    {
     "data": {
      "image/png": "[encoded data removed]",
      "text/plain": [
       "<matplotlib.figure.Figure at 0xbee3f70>"
      ]
     },
     "metadata": {},
     "output_type": "display_data"
    }
   ],
   "source": [
    "import math\n",
    "import matplotlib.pyplot as plt\n",
    "%matplotlib inline\n",
    "def f(x,mi):\n",
    "    return (1-math.e**(x/mi))/(1-math.e**(1/mi))\n",
    "x=np.linspace(0,1,10000)\n",
    "\n",
    "plt.plot(x,f(x,1),label='$\\mu=1$')\n",
    "plt.plot(x,f(x,0.01),label='$\\mu=0.01$')\n",
    "plt.plot([0, 1, 1], [0, 0, 1], label='$\\mu=0.001$')\n",
    "plt.legend()"
   ]
  },
  {
   "cell_type": "code",
   "execution_count": 65,
   "metadata": {},
   "outputs": [
    {
     "data": {
      "image/png": "[encoded data removed]",
      "text/latex": [
       "$$b \\log{\\left (a \\right )} + y \\log{\\left (x \\right )}$$"
      ],
      "text/plain": [
       "b⋅log(a) + y⋅log(x)"
      ]
     },
     "execution_count": 65,
     "metadata": {},
     "output_type": "execute_result"
    }
   ],
   "source": [
    "import sympy as sp\n",
    "sp.init_printing()\n",
    "\n",
    "x, y, a, b = sp.symbols('x, y, a, b',positive=True)\n",
    "sp.expand\n",
    "sp.expand_log(sp.log(x**y*a**b))"
   ]
  },
  {
   "cell_type": "markdown",
   "metadata": {},
   "source": [
    "\n",
    "Simulirajte bacanje pristranog novčića (vjerojatnost glave je 55%) 1000 puta. Kolika je vjerojatnost da u tih 1000 bacanja broj glava bude veći od broja pisama? Rezultat odredite numerički iz simulacije tako da ponovite pokus (svih 1000 bacanja) 100 000 puta."
   ]
  },
  {
   "cell_type": "code",
   "execution_count": 66,
   "metadata": {},
   "outputs": [
    {
     "data": {
      "application/vnd.jupyter.widget-view+json": {
       "model_id": "76e2c448467142609b01f1cbab48b9f7",
       "version_major": 2,
       "version_minor": 0
      },
      "text/html": [
       "<p>Failed to display Jupyter Widget of type <code>interactive</code>.</p>\n",
       "<p>\n",
       "  If you're reading this message in the Jupyter Notebook or JupyterLab Notebook, it may mean\n",
       "  that the widgets JavaScript is still loading. If this message persists, it\n",
       "  likely means that the widgets JavaScript library is either not installed or\n",
       "  not enabled. See the <a href=\"https://ipywidgets.readthedocs.io/en/stable/user_install.html\">Jupyter\n",
       "  Widgets Documentation</a> for setup instructions.\n",
       "</p>\n",
       "<p>\n",
       "  If you're reading this message in another frontend (for example, a static\n",
       "  rendering on GitHub or <a href=\"https://nbviewer.jupyter.org/\">NBViewer</a>),\n",
       "  it may mean that your frontend doesn't currently support widgets.\n",
       "</p>\n"
      ],
      "text/plain": [
       "interactive(children=(IntSlider(value=50000, description='N', max=100000, min=1), Output()), _dom_classes=('widget-interact',))"
      ]
     },
     "metadata": {},
     "output_type": "display_data"
    }
   ],
   "source": [
    "def vjer(N):\n",
    "    y=np.random.binomial(1000,0.55,N)\n",
    "    return sum(y>500)/N\n",
    "widgets.interact(vjer, N=(1,100000));"
   ]
  },
  {
   "cell_type": "code",
   "execution_count": 67,
   "metadata": {},
   "outputs": [],
   "source": [
    "##ovisnost o pristranosti:\n",
    "x=np.linspace(0,1)\n",
    "def ovisnost(p):\n",
    "    y=np.random.binomial(1000,p,100_000)\n",
    "    return sum(y>500)/100_000\n",
    "##vektorizirana=np.vectorize(ovisnost)\n",
    "##z=vektorizirana(x)\n",
    "##plt.plot(x,z)"
   ]
  },
  {
   "cell_type": "code",
   "execution_count": 68,
   "metadata": {},
   "outputs": [
    {
     "data": {
      "text/html": [
       "<div>\n",
       "<style scoped>\n",
       "    .dataframe tbody tr th:only-of-type {\n",
       "        vertical-align: middle;\n",
       "    }\n",
       "\n",
       "    .dataframe tbody tr th {\n",
       "        vertical-align: top;\n",
       "    }\n",
       "\n",
       "    .dataframe thead th {\n",
       "        text-align: right;\n",
       "    }\n",
       "</style>\n",
       "<table border=\"1\" class=\"dataframe\">\n",
       "  <thead>\n",
       "    <tr style=\"text-align: right;\">\n",
       "      <th></th>\n",
       "      <th>datum</th>\n",
       "      <th>prvi</th>\n",
       "      <th>drugi</th>\n",
       "      <th>spol</th>\n",
       "      <th>boja</th>\n",
       "    </tr>\n",
       "  </thead>\n",
       "  <tbody>\n",
       "    <tr>\n",
       "      <th>0</th>\n",
       "      <td>2016-07-17</td>\n",
       "      <td>450</td>\n",
       "      <td>628.578622</td>\n",
       "      <td>girl</td>\n",
       "      <td>red</td>\n",
       "    </tr>\n",
       "    <tr>\n",
       "      <th>1</th>\n",
       "      <td>2014-02-17</td>\n",
       "      <td>418</td>\n",
       "      <td>226.950670</td>\n",
       "      <td>boy</td>\n",
       "      <td>red</td>\n",
       "    </tr>\n",
       "    <tr>\n",
       "      <th>2</th>\n",
       "      <td>2016-03-03</td>\n",
       "      <td>418</td>\n",
       "      <td>208.042709</td>\n",
       "      <td>girl</td>\n",
       "      <td>red</td>\n",
       "    </tr>\n",
       "    <tr>\n",
       "      <th>3</th>\n",
       "      <td>2014-04-28</td>\n",
       "      <td>26</td>\n",
       "      <td>915.238500</td>\n",
       "      <td>boy</td>\n",
       "      <td>blue</td>\n",
       "    </tr>\n",
       "    <tr>\n",
       "      <th>4</th>\n",
       "      <td>2014-09-07</td>\n",
       "      <td>182</td>\n",
       "      <td>744.946901</td>\n",
       "      <td>boy</td>\n",
       "      <td>green</td>\n",
       "    </tr>\n",
       "    <tr>\n",
       "      <th>5</th>\n",
       "      <td>2014-07-21</td>\n",
       "      <td>345</td>\n",
       "      <td>542.665316</td>\n",
       "      <td>girl</td>\n",
       "      <td>blue</td>\n",
       "    </tr>\n",
       "    <tr>\n",
       "      <th>6</th>\n",
       "      <td>2014-01-21</td>\n",
       "      <td>807</td>\n",
       "      <td>396.394572</td>\n",
       "      <td>boy</td>\n",
       "      <td>yellow</td>\n",
       "    </tr>\n",
       "    <tr>\n",
       "      <th>7</th>\n",
       "      <td>2016-01-23</td>\n",
       "      <td>36</td>\n",
       "      <td>792.745992</td>\n",
       "      <td>boy</td>\n",
       "      <td>blue</td>\n",
       "    </tr>\n",
       "    <tr>\n",
       "      <th>8</th>\n",
       "      <td>2015-07-07</td>\n",
       "      <td>44</td>\n",
       "      <td>616.078044</td>\n",
       "      <td>girl</td>\n",
       "      <td>blue</td>\n",
       "    </tr>\n",
       "    <tr>\n",
       "      <th>9</th>\n",
       "      <td>2014-08-18</td>\n",
       "      <td>390</td>\n",
       "      <td>527.061301</td>\n",
       "      <td>boy</td>\n",
       "      <td>yellow</td>\n",
       "    </tr>\n",
       "    <tr>\n",
       "      <th>10</th>\n",
       "      <td>2014-04-02</td>\n",
       "      <td>456</td>\n",
       "      <td>4.716575</td>\n",
       "      <td>girl</td>\n",
       "      <td>green</td>\n",
       "    </tr>\n",
       "    <tr>\n",
       "      <th>11</th>\n",
       "      <td>2015-12-20</td>\n",
       "      <td>584</td>\n",
       "      <td>577.939367</td>\n",
       "      <td>boy</td>\n",
       "      <td>blue</td>\n",
       "    </tr>\n",
       "    <tr>\n",
       "      <th>12</th>\n",
       "      <td>2015-03-18</td>\n",
       "      <td>718</td>\n",
       "      <td>919.344036</td>\n",
       "      <td>girl</td>\n",
       "      <td>yellow</td>\n",
       "    </tr>\n",
       "    <tr>\n",
       "      <th>13</th>\n",
       "      <td>2015-04-26</td>\n",
       "      <td>792</td>\n",
       "      <td>623.799887</td>\n",
       "      <td>boy</td>\n",
       "      <td>red</td>\n",
       "    </tr>\n",
       "    <tr>\n",
       "      <th>14</th>\n",
       "      <td>2015-08-23</td>\n",
       "      <td>938</td>\n",
       "      <td>927.630485</td>\n",
       "      <td>boy</td>\n",
       "      <td>yellow</td>\n",
       "    </tr>\n",
       "    <tr>\n",
       "      <th>15</th>\n",
       "      <td>2015-09-27</td>\n",
       "      <td>14</td>\n",
       "      <td>40.380074</td>\n",
       "      <td>girl</td>\n",
       "      <td>blue</td>\n",
       "    </tr>\n",
       "    <tr>\n",
       "      <th>16</th>\n",
       "      <td>2014-07-15</td>\n",
       "      <td>26</td>\n",
       "      <td>451.519075</td>\n",
       "      <td>girl</td>\n",
       "      <td>blue</td>\n",
       "    </tr>\n",
       "    <tr>\n",
       "      <th>17</th>\n",
       "      <td>2016-05-15</td>\n",
       "      <td>116</td>\n",
       "      <td>969.555910</td>\n",
       "      <td>boy</td>\n",
       "      <td>red</td>\n",
       "    </tr>\n",
       "    <tr>\n",
       "      <th>18</th>\n",
       "      <td>2015-04-15</td>\n",
       "      <td>209</td>\n",
       "      <td>827.094101</td>\n",
       "      <td>boy</td>\n",
       "      <td>yellow</td>\n",
       "    </tr>\n",
       "    <tr>\n",
       "      <th>19</th>\n",
       "      <td>2014-03-03</td>\n",
       "      <td>202</td>\n",
       "      <td>811.039542</td>\n",
       "      <td>boy</td>\n",
       "      <td>red</td>\n",
       "    </tr>\n",
       "    <tr>\n",
       "      <th>20</th>\n",
       "      <td>2015-01-07</td>\n",
       "      <td>254</td>\n",
       "      <td>512.529009</td>\n",
       "      <td>girl</td>\n",
       "      <td>blue</td>\n",
       "    </tr>\n",
       "    <tr>\n",
       "      <th>21</th>\n",
       "      <td>2015-09-01</td>\n",
       "      <td>2</td>\n",
       "      <td>703.001673</td>\n",
       "      <td>girl</td>\n",
       "      <td>yellow</td>\n",
       "    </tr>\n",
       "    <tr>\n",
       "      <th>22</th>\n",
       "      <td>2016-04-26</td>\n",
       "      <td>667</td>\n",
       "      <td>187.608667</td>\n",
       "      <td>boy</td>\n",
       "      <td>red</td>\n",
       "    </tr>\n",
       "    <tr>\n",
       "      <th>23</th>\n",
       "      <td>2016-01-23</td>\n",
       "      <td>312</td>\n",
       "      <td>884.018403</td>\n",
       "      <td>girl</td>\n",
       "      <td>blue</td>\n",
       "    </tr>\n",
       "    <tr>\n",
       "      <th>24</th>\n",
       "      <td>2014-10-11</td>\n",
       "      <td>792</td>\n",
       "      <td>585.769718</td>\n",
       "      <td>girl</td>\n",
       "      <td>purple</td>\n",
       "    </tr>\n",
       "    <tr>\n",
       "      <th>25</th>\n",
       "      <td>2014-03-30</td>\n",
       "      <td>507</td>\n",
       "      <td>373.570850</td>\n",
       "      <td>girl</td>\n",
       "      <td>yellow</td>\n",
       "    </tr>\n",
       "    <tr>\n",
       "      <th>26</th>\n",
       "      <td>2015-03-27</td>\n",
       "      <td>78</td>\n",
       "      <td>635.718898</td>\n",
       "      <td>girl</td>\n",
       "      <td>purple</td>\n",
       "    </tr>\n",
       "    <tr>\n",
       "      <th>27</th>\n",
       "      <td>2014-12-27</td>\n",
       "      <td>100</td>\n",
       "      <td>41.486492</td>\n",
       "      <td>girl</td>\n",
       "      <td>purple</td>\n",
       "    </tr>\n",
       "    <tr>\n",
       "      <th>28</th>\n",
       "      <td>2016-04-17</td>\n",
       "      <td>683</td>\n",
       "      <td>138.001860</td>\n",
       "      <td>girl</td>\n",
       "      <td>red</td>\n",
       "    </tr>\n",
       "    <tr>\n",
       "      <th>29</th>\n",
       "      <td>2016-03-08</td>\n",
       "      <td>300</td>\n",
       "      <td>925.708079</td>\n",
       "      <td>boy</td>\n",
       "      <td>green</td>\n",
       "    </tr>\n",
       "    <tr>\n",
       "      <th>30</th>\n",
       "      <td>2016-01-16</td>\n",
       "      <td>925</td>\n",
       "      <td>971.141551</td>\n",
       "      <td>boy</td>\n",
       "      <td>red</td>\n",
       "    </tr>\n",
       "    <tr>\n",
       "      <th>31</th>\n",
       "      <td>2016-06-23</td>\n",
       "      <td>317</td>\n",
       "      <td>223.288738</td>\n",
       "      <td>boy</td>\n",
       "      <td>green</td>\n",
       "    </tr>\n",
       "    <tr>\n",
       "      <th>32</th>\n",
       "      <td>2016-01-26</td>\n",
       "      <td>783</td>\n",
       "      <td>819.096804</td>\n",
       "      <td>boy</td>\n",
       "      <td>blue</td>\n",
       "    </tr>\n",
       "    <tr>\n",
       "      <th>33</th>\n",
       "      <td>2015-01-28</td>\n",
       "      <td>71</td>\n",
       "      <td>309.760628</td>\n",
       "      <td>boy</td>\n",
       "      <td>blue</td>\n",
       "    </tr>\n",
       "    <tr>\n",
       "      <th>34</th>\n",
       "      <td>2016-03-27</td>\n",
       "      <td>325</td>\n",
       "      <td>444.532115</td>\n",
       "      <td>boy</td>\n",
       "      <td>purple</td>\n",
       "    </tr>\n",
       "    <tr>\n",
       "      <th>35</th>\n",
       "      <td>2015-07-10</td>\n",
       "      <td>552</td>\n",
       "      <td>517.586297</td>\n",
       "      <td>boy</td>\n",
       "      <td>red</td>\n",
       "    </tr>\n",
       "    <tr>\n",
       "      <th>36</th>\n",
       "      <td>2014-05-19</td>\n",
       "      <td>740</td>\n",
       "      <td>988.004758</td>\n",
       "      <td>boy</td>\n",
       "      <td>yellow</td>\n",
       "    </tr>\n",
       "    <tr>\n",
       "      <th>37</th>\n",
       "      <td>2014-06-07</td>\n",
       "      <td>463</td>\n",
       "      <td>61.233638</td>\n",
       "      <td>boy</td>\n",
       "      <td>green</td>\n",
       "    </tr>\n",
       "    <tr>\n",
       "      <th>38</th>\n",
       "      <td>2016-06-02</td>\n",
       "      <td>518</td>\n",
       "      <td>256.335606</td>\n",
       "      <td>boy</td>\n",
       "      <td>yellow</td>\n",
       "    </tr>\n",
       "    <tr>\n",
       "      <th>39</th>\n",
       "      <td>2014-03-14</td>\n",
       "      <td>528</td>\n",
       "      <td>114.734319</td>\n",
       "      <td>girl</td>\n",
       "      <td>red</td>\n",
       "    </tr>\n",
       "    <tr>\n",
       "      <th>40</th>\n",
       "      <td>2015-06-08</td>\n",
       "      <td>207</td>\n",
       "      <td>731.211508</td>\n",
       "      <td>boy</td>\n",
       "      <td>yellow</td>\n",
       "    </tr>\n",
       "    <tr>\n",
       "      <th>41</th>\n",
       "      <td>2015-10-09</td>\n",
       "      <td>211</td>\n",
       "      <td>715.706315</td>\n",
       "      <td>boy</td>\n",
       "      <td>red</td>\n",
       "    </tr>\n",
       "    <tr>\n",
       "      <th>42</th>\n",
       "      <td>2014-07-08</td>\n",
       "      <td>672</td>\n",
       "      <td>302.847557</td>\n",
       "      <td>boy</td>\n",
       "      <td>yellow</td>\n",
       "    </tr>\n",
       "    <tr>\n",
       "      <th>43</th>\n",
       "      <td>2014-05-06</td>\n",
       "      <td>375</td>\n",
       "      <td>957.917383</td>\n",
       "      <td>girl</td>\n",
       "      <td>yellow</td>\n",
       "    </tr>\n",
       "    <tr>\n",
       "      <th>44</th>\n",
       "      <td>2016-06-09</td>\n",
       "      <td>530</td>\n",
       "      <td>205.990431</td>\n",
       "      <td>girl</td>\n",
       "      <td>purple</td>\n",
       "    </tr>\n",
       "    <tr>\n",
       "      <th>45</th>\n",
       "      <td>2016-09-06</td>\n",
       "      <td>294</td>\n",
       "      <td>682.120222</td>\n",
       "      <td>girl</td>\n",
       "      <td>blue</td>\n",
       "    </tr>\n",
       "    <tr>\n",
       "      <th>46</th>\n",
       "      <td>2015-09-15</td>\n",
       "      <td>166</td>\n",
       "      <td>190.032588</td>\n",
       "      <td>boy</td>\n",
       "      <td>red</td>\n",
       "    </tr>\n",
       "    <tr>\n",
       "      <th>47</th>\n",
       "      <td>2015-01-12</td>\n",
       "      <td>591</td>\n",
       "      <td>978.913511</td>\n",
       "      <td>boy</td>\n",
       "      <td>blue</td>\n",
       "    </tr>\n",
       "    <tr>\n",
       "      <th>48</th>\n",
       "      <td>2015-10-21</td>\n",
       "      <td>571</td>\n",
       "      <td>259.954915</td>\n",
       "      <td>girl</td>\n",
       "      <td>green</td>\n",
       "    </tr>\n",
       "    <tr>\n",
       "      <th>49</th>\n",
       "      <td>2015-09-29</td>\n",
       "      <td>75</td>\n",
       "      <td>414.686734</td>\n",
       "      <td>boy</td>\n",
       "      <td>purple</td>\n",
       "    </tr>\n",
       "  </tbody>\n",
       "</table>\n",
       "</div>"
      ],
      "text/plain": [
       "         datum  prvi       drugi  spol    boja\n",
       "0   2016-07-17   450  628.578622  girl     red\n",
       "1   2014-02-17   418  226.950670   boy     red\n",
       "2   2016-03-03   418  208.042709  girl     red\n",
       "3   2014-04-28    26  915.238500   boy    blue\n",
       "4   2014-09-07   182  744.946901   boy   green\n",
       "5   2014-07-21   345  542.665316  girl    blue\n",
       "6   2014-01-21   807  396.394572   boy  yellow\n",
       "7   2016-01-23    36  792.745992   boy    blue\n",
       "8   2015-07-07    44  616.078044  girl    blue\n",
       "9   2014-08-18   390  527.061301   boy  yellow\n",
       "10  2014-04-02   456    4.716575  girl   green\n",
       "11  2015-12-20   584  577.939367   boy    blue\n",
       "12  2015-03-18   718  919.344036  girl  yellow\n",
       "13  2015-04-26   792  623.799887   boy     red\n",
       "14  2015-08-23   938  927.630485   boy  yellow\n",
       "15  2015-09-27    14   40.380074  girl    blue\n",
       "16  2014-07-15    26  451.519075  girl    blue\n",
       "17  2016-05-15   116  969.555910   boy     red\n",
       "18  2015-04-15   209  827.094101   boy  yellow\n",
       "19  2014-03-03   202  811.039542   boy     red\n",
       "20  2015-01-07   254  512.529009  girl    blue\n",
       "21  2015-09-01     2  703.001673  girl  yellow\n",
       "22  2016-04-26   667  187.608667   boy     red\n",
       "23  2016-01-23   312  884.018403  girl    blue\n",
       "24  2014-10-11   792  585.769718  girl  purple\n",
       "25  2014-03-30   507  373.570850  girl  yellow\n",
       "26  2015-03-27    78  635.718898  girl  purple\n",
       "27  2014-12-27   100   41.486492  girl  purple\n",
       "28  2016-04-17   683  138.001860  girl     red\n",
       "29  2016-03-08   300  925.708079   boy   green\n",
       "30  2016-01-16   925  971.141551   boy     red\n",
       "31  2016-06-23   317  223.288738   boy   green\n",
       "32  2016-01-26   783  819.096804   boy    blue\n",
       "33  2015-01-28    71  309.760628   boy    blue\n",
       "34  2016-03-27   325  444.532115   boy  purple\n",
       "35  2015-07-10   552  517.586297   boy     red\n",
       "36  2014-05-19   740  988.004758   boy  yellow\n",
       "37  2014-06-07   463   61.233638   boy   green\n",
       "38  2016-06-02   518  256.335606   boy  yellow\n",
       "39  2014-03-14   528  114.734319  girl     red\n",
       "40  2015-06-08   207  731.211508   boy  yellow\n",
       "41  2015-10-09   211  715.706315   boy     red\n",
       "42  2014-07-08   672  302.847557   boy  yellow\n",
       "43  2014-05-06   375  957.917383  girl  yellow\n",
       "44  2016-06-09   530  205.990431  girl  purple\n",
       "45  2016-09-06   294  682.120222  girl    blue\n",
       "46  2015-09-15   166  190.032588   boy     red\n",
       "47  2015-01-12   591  978.913511   boy    blue\n",
       "48  2015-10-21   571  259.954915  girl   green\n",
       "49  2015-09-29    75  414.686734   boy  purple"
      ]
     },
     "execution_count": 68,
     "metadata": {},
     "output_type": "execute_result"
    }
   ],
   "source": [
    "import pandas as pd\n",
    "df=pd.read_csv(\"pdzad.csv\",names='datum prvi drugi spol boja'.split(),sep=\"\\t\")\n",
    "df"
   ]
  },
  {
   "cell_type": "markdown",
   "metadata": {},
   "source": [
    "\n",
    "Za najkasniji (datumi su u prvom stupcu) redak koji u predzadnjem stupcu ima girl a u zadnjem yellow, nađite umnožak drugog i trećeg stupca."
   ]
  },
  {
   "cell_type": "code",
   "execution_count": 69,
   "metadata": {},
   "outputs": [
    {
     "data": {
      "image/png": "[encoded data removed]",
      "text/latex": [
       "$$359219.01862499997$$"
      ],
      "text/plain": [
       "359219.01862499997"
      ]
     },
     "execution_count": 69,
     "metadata": {},
     "output_type": "execute_result"
    }
   ],
   "source": [
    "sub=df[(df['spol']=='girl') & (df['boja']=='yellow')]\n",
    "redak=sub.loc[sub.index.max()]\n",
    "redak['prvi']*redak['drugi']"
   ]
  },
  {
   "cell_type": "code",
   "execution_count": 70,
   "metadata": {},
   "outputs": [
    {
     "data": {
      "image/png": "[encoded data removed]",
      "text/plain": [
       "<matplotlib.figure.Figure at 0xd1f98b0>"
      ]
     },
     "metadata": {},
     "output_type": "display_data"
    }
   ],
   "source": [
    "def crtaj(v):\n",
    "    g=9.81\n",
    "    for v0 in v:\n",
    "        t=np.linspace(0,2*v0/g)\n",
    "        plt.plot(t,v0*t-0.5*g*t*t)\n",
    "    return\n",
    "\n",
    "crtaj([1,2,3])"
   ]
  },
  {
   "cell_type": "code",
   "execution_count": 71,
   "metadata": {},
   "outputs": [
    {
     "name": "stdout",
     "output_type": "stream",
     "text": [
      "5.0000\n"
     ]
    }
   ],
   "source": [
    "#####SYMPY\n",
    "import sympy as sp\n",
    "sp.init_printing()\n",
    "def evaluiraj(izrazi, x, x0):\n",
    "    for izraz in izrazi:\n",
    "        print(izraz.n(5, subs={x:x0}))\n",
    "    return\n",
    "\n",
    "x = sp.Symbol('x')\n",
    "evaluiraj([x+2],x,3)"
   ]
  },
  {
   "cell_type": "code",
   "execution_count": 72,
   "metadata": {},
   "outputs": [
    {
     "data": {
      "image/png": "[encoded data removed]",
      "text/latex": [
       "$$e^{x} \\sin{\\left (x \\right )} + e^{x} \\cos{\\left (x \\right )}$$"
      ],
      "text/plain": [
       " x           x       \n",
       "ℯ ⋅sin(x) + ℯ ⋅cos(x)"
      ]
     },
     "execution_count": 72,
     "metadata": {},
     "output_type": "execute_result"
    }
   ],
   "source": [
    "sp.Derivative(sp.sin(x) * sp.E**x, x).doit()"
   ]
  },
  {
   "cell_type": "code",
   "execution_count": 73,
   "metadata": {},
   "outputs": [
    {
     "data": {
      "image/png": "[encoded data removed]",
      "text/latex": [
       "$$\\left(- x y \\sin{\\left (x y \\right )} + x \\cos{\\left (x y \\right )} + \\cos{\\left (x y \\right )}\\right) e^{x}$$"
      ],
      "text/plain": [
       "                                         x\n",
       "(-x⋅y⋅sin(x⋅y) + x⋅cos(x⋅y) + cos(x⋅y))⋅ℯ "
      ]
     },
     "execution_count": 73,
     "metadata": {},
     "output_type": "execute_result"
    }
   ],
   "source": [
    "y = sp.Symbol('y')\n",
    "sp.Derivative(sp.sin(x*y) * sp.E**x, x,y).doit()"
   ]
  },
  {
   "cell_type": "code",
   "execution_count": 74,
   "metadata": {},
   "outputs": [
    {
     "data": {
      "image/png": "[encoded data removed]",
      "text/latex": [
       "$$\\frac{1}{x^{2} + 2 x + 1} + \\frac{1}{x}$$"
      ],
      "text/plain": [
       "     1         1\n",
       "──────────── + ─\n",
       " 2             x\n",
       "x  + 2⋅x + 1    "
      ]
     },
     "execution_count": 74,
     "metadata": {},
     "output_type": "execute_result"
    }
   ],
   "source": [
    "izraz=(x**2 + 3*x + 1)/(x**3 + 2*x**2 + x)\n",
    "izraz.apart().expand()"
   ]
  },
  {
   "cell_type": "code",
   "execution_count": 75,
   "metadata": {},
   "outputs": [
    {
     "data": {
      "image/png": "[encoded data removed]",
      "text/latex": [
       "$$a^{b c}$$"
      ],
      "text/plain": [
       " b⋅c\n",
       "a   "
      ]
     },
     "execution_count": 75,
     "metadata": {},
     "output_type": "execute_result"
    }
   ],
   "source": [
    "from sympy.abc import a,b,c\n",
    "izraz=((a**b)**c) \n",
    "sp.powdenest(izraz,force=True)"
   ]
  },
  {
   "cell_type": "code",
   "execution_count": 76,
   "metadata": {},
   "outputs": [
    {
     "data": {
      "image/png": "[encoded data removed]",
      "text/latex": [
       "$$\\left ( 4 \\sqrt{3} + 8, \\quad - 4 \\sqrt{3} + 8\\right )$$"
      ],
      "text/plain": [
       "(4⋅√3 + 8, -4⋅√3 + 8)"
      ]
     },
     "execution_count": 76,
     "metadata": {},
     "output_type": "execute_result"
    }
   ],
   "source": [
    "def kvadratna(jedn):\n",
    "    a=jedn.coeff(x,2)\n",
    "    b=jedn.coeff(x,1)\n",
    "    c=jedn.coeff(x,0)\n",
    "    D=b**2-4*a*c\n",
    "    return -b+(sp.sqrt(D))/2*a, -b-sp.sqrt(D)/2*a\n",
    "\n",
    "kvadratna(2*x**2-8*x+2)"
   ]
  },
  {
   "cell_type": "markdown",
   "metadata": {},
   "source": [
    " Napišite funkciju koja za ulazne parametre prima funkciju (danu simboličkim izrazom) te točku (tj. broj) a crta danu funkciju i njenu tangentu u danoj točki. Učinite funkciju interaktivnom na način da se može birati funkcija (upisivanjem u polje) te točka (klizačem)."
   ]
  },
  {
   "cell_type": "code",
   "execution_count": 83,
   "metadata": {},
   "outputs": [
    {
     "data": {
      "application/vnd.jupyter.widget-view+json": {
       "model_id": "0cb9e8993f764d869a518d9695a31386",
       "version_major": 2,
       "version_minor": 0
      },
      "text/html": [
       "<p>Failed to display Jupyter Widget of type <code>interactive</code>.</p>\n",
       "<p>\n",
       "  If you're reading this message in the Jupyter Notebook or JupyterLab Notebook, it may mean\n",
       "  that the widgets JavaScript is still loading. If this message persists, it\n",
       "  likely means that the widgets JavaScript library is either not installed or\n",
       "  not enabled. See the <a href=\"https://ipywidgets.readthedocs.io/en/stable/user_install.html\">Jupyter\n",
       "  Widgets Documentation</a> for setup instructions.\n",
       "</p>\n",
       "<p>\n",
       "  If you're reading this message in another frontend (for example, a static\n",
       "  rendering on GitHub or <a href=\"https://nbviewer.jupyter.org/\">NBViewer</a>),\n",
       "  it may mean that your frontend doesn't currently support widgets.\n",
       "</p>\n"
      ],
      "text/plain": [
       "interactive(children=(Text(value='upiši izraz', description='izraz'), IntSlider(value=0, description='x0', max=10, min=-10), Output()), _dom_classes=('widget-interact',))"
      ]
     },
     "metadata": {},
     "output_type": "display_data"
    },
    {
     "data": {
      "text/plain": [
       "<function __main__.fja>"
      ]
     },
     "execution_count": 83,
     "metadata": {},
     "output_type": "execute_result"
    }
   ],
   "source": [
    "import numpy as np\n",
    "import matplotlib.pyplot as plt\n",
    "def fja(izraz,x0):\n",
    "    \n",
    "    der=sp.Derivative(izraz, x).doit()\n",
    "    k=der.n(5, subs={x:x0})\n",
    "    tangenta=k*(x-x0)+izraz.n(5,subs={x:x0})\n",
    "    sp.plot(izraz,tangenta)\n",
    "    \n",
    "widgets.interact(fja,izraz=\"upiši izraz\",x0=(-10,10))"
   ]
  }
 ],
 "metadata": {
  "kernelspec": {
   "display_name": "Python 3",
   "language": "python",
   "name": "python3"
  },
  "language_info": {
   "codemirror_mode": {
    "name": "ipython",
    "version": 3
   },
   "file_extension": ".py",
   "mimetype": "text/x-python",
   "name": "python",
   "nbconvert_exporter": "python",
   "pygments_lexer": "ipython3",
   "version": "3.6.4"
  }
 },
 "nbformat": 4,
 "nbformat_minor": 2
}
